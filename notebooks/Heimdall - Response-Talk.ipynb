{
 "cells": [
  {
   "cell_type": "code",
   "execution_count": 3,
   "metadata": {},
   "outputs": [],
   "source": [
    "##########################\n",
    "#  Code Author: 1359531  #\n",
    "##########################"
   ]
  },
  {
   "cell_type": "code",
   "execution_count": 4,
   "metadata": {},
   "outputs": [],
   "source": [
    "from nlpfunctions import bow\n",
    "from nlpfunctions import clean_up_sentence"
   ]
  },
  {
   "cell_type": "code",
   "execution_count": 5,
   "metadata": {},
   "outputs": [
    {
     "name": "stderr",
     "output_type": "stream",
     "text": [
      "Using TensorFlow backend.\n"
     ]
    }
   ],
   "source": [
    "import numpy as np\n",
    "import random\n",
    "from keras.models import load_model\n",
    "import pickle\n",
    "import json"
   ]
  },
  {
   "cell_type": "code",
   "execution_count": 6,
   "metadata": {},
   "outputs": [],
   "source": [
    "data = pickle.load( open( \"meta.pkl\", \"rb\" ) )\n",
    "words = data['words']\n",
    "classes = data['classes']\n",
    "with open('intents.json') as json_data:\n",
    "    intents = json.load(json_data)\n",
    "model = load_model('model.h5')"
   ]
  },
  {
   "cell_type": "code",
   "execution_count": 11,
   "metadata": {},
   "outputs": [],
   "source": [
    "context = {}\n",
    "ERROR_THRESHOLD = 0.3\n",
    "\n",
    "def classify(sentence):\n",
    "    p = np.array([bow(sentence, words)])\n",
    "    results = list(model.predict(p))[0]\n",
    "    results = [[i,r] for i,r in enumerate(results) if r>ERROR_THRESHOLD]\n",
    "    results.sort(key=lambda x: x[1], reverse=True)\n",
    "    return_list = []\n",
    "    for r in results:\n",
    "        return_list.append((classes[r[0]], r[1]))\n",
    "    return return_list\n",
    "\n",
    "def response(sentence, userID='anonymous',show_details=False):\n",
    "    results = classify(sentence)\n",
    "    output = {\"response\":\"Sorry, please try again\"}\n",
    "    if results:\n",
    "        while results:\n",
    "            for i in intents['intents']:\n",
    "                if i['tag'] == results[0][0]:\n",
    "                    if 'context_set' in i:\n",
    "                        context[userID] = i['context_set']\n",
    "                        output[\"context_set\"] = i[\"context_set\"]      \n",
    "                    output[\"tag\"] = i['tag']\n",
    "                    if not 'context_filter' in i:\n",
    "                        output[\"response\"] = random.choice(i['responses'])\n",
    "                    elif (userID in context and 'context_filter' in i and i['context_filter'] == context[userID]):\n",
    "                        #### Action Set ####\n",
    "                        if 'action' in i:\n",
    "                            print(\"Action:\"+i['action'])\n",
    "                        context.pop(userID, None)\n",
    "                        output[\"response\"] = random.choice(i['responses'])\n",
    "                        output[\"context_filter\"] = i[\"context_filter\"]\n",
    "            results.pop(0)\n",
    "    \n",
    "    if show_details: \n",
    "        return output\n",
    "    else:\n",
    "        return output[\"response\"]"
   ]
  },
  {
   "cell_type": "code",
   "execution_count": 8,
   "metadata": {},
   "outputs": [],
   "source": [
    "# while True:\n",
    "#     try:\n",
    "#         i = input()\n",
    "#         if i == \"exit\":\n",
    "#             break\n",
    "#         else:\n",
    "#             bot_response = response(i)\n",
    "#             print(\"HeimDall: \"+bot_response)\n",
    "#     except (KeyboardInterrupt, EOFError, SystemExit):\n",
    "#         break"
   ]
  },
  {
   "cell_type": "code",
   "execution_count": 12,
   "metadata": {},
   "outputs": [
    {
     "name": "stdout",
     "output_type": "stream",
     "text": [
      "hello\n",
      "{'response': 'Hello, Good to see you again', 'context_set': '', 'tag': 'greeting'}\n",
      "gen cert\n",
      "{'response': 'Do you want to generate certificate for Resource group or VM?', 'context_set': 'gen_cert', 'tag': 'gen_cert'}\n",
      "vm\n",
      "Action:gen_cert_type_vm\n",
      "{'response': 'Okay, generating certificates for Virtual machine', 'tag': 'gen_cert_type_vm', 'context_filter': 'gen_cert'}\n",
      "exit\n"
     ]
    }
   ],
   "source": [
    "while True:\n",
    "    try:\n",
    "        i = input()\n",
    "        if i == \"exit\":\n",
    "            break\n",
    "        else:\n",
    "            bot_response = response(i,show_details=True)\n",
    "            print(bot_response)\n",
    "    except (KeyboardInterrupt, EOFError, SystemExit):\n",
    "        break"
   ]
  },
  {
   "cell_type": "code",
   "execution_count": 18,
   "metadata": {},
   "outputs": [
    {
     "data": {
      "text/plain": [
       "'{\"response\": \"Hi there, how can I help?\", \"context_set\": \"\", \"tag\": \"greeting\"}'"
      ]
     },
     "execution_count": 18,
     "metadata": {},
     "output_type": "execute_result"
    }
   ],
   "source": [
    "type(response(\"hello\",show_details=True))\n",
    "\n",
    "import json\n",
    "json.dumps(response(\"hello\",show_details=True))"
   ]
  }
 ],
 "metadata": {
  "kernelspec": {
   "display_name": "Python 3",
   "language": "python",
   "name": "python3"
  },
  "language_info": {
   "codemirror_mode": {
    "name": "ipython",
    "version": 3
   },
   "file_extension": ".py",
   "mimetype": "text/x-python",
   "name": "python",
   "nbconvert_exporter": "python",
   "pygments_lexer": "ipython3",
   "version": "3.7.4"
  }
 },
 "nbformat": 4,
 "nbformat_minor": 1
}
